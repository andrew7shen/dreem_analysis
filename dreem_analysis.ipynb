{
 "cells": [
  {
   "cell_type": "code",
   "execution_count": 919,
   "id": "4678d609-db41-4112-8fcc-faad3805f2f7",
   "metadata": {},
   "outputs": [],
   "source": [
    "# Andrew Shen\n",
    "# Dr. Yoav Freund\n",
    "# GOAL: Analysis of easy/hard examples for Dreem dataset of interater agreement using Fleiss Kappa statistic"
   ]
  },
  {
   "cell_type": "code",
   "execution_count": 920,
   "id": "4b40c765-7d13-4fb3-9ea1-9500938341a8",
   "metadata": {},
   "outputs": [],
   "source": [
    "# Import packages\n",
    "\n",
    "import pandas as pd"
   ]
  },
  {
   "cell_type": "code",
   "execution_count": 921,
   "id": "e79a0a2d-06b4-4210-8ee1-e0ffb50d16b5",
   "metadata": {},
   "outputs": [],
   "source": [
    "# Current patient to analyze (out of the 80 patients)\n",
    "file_name = \"fc10ee0b-b863-511b-bce8-4dfa7af8ac3a\""
   ]
  },
  {
   "cell_type": "code",
   "execution_count": 922,
   "id": "38da1465-a5eb-4a30-b3b7-10b3308fac4c",
   "metadata": {},
   "outputs": [],
   "source": [
    "# Load in datasets into dataframes\n",
    "\n",
    "# Read in each file, drop last column (Nan vals) and the last row (\"]\" value), rename first column as \"score\"\n",
    "# dreem1_1 = pd.read_csv(\"/Users/andrewshen/Desktop/dreem1_1.txt\", usecols = [i for i in range(1)])\n",
    "# dreem1_1.drop(dreem1_1.tail(1).index,inplace=True)\n",
    "# dreem1_1.columns = [\"score\"]\n",
    "\n",
    "# TEST\n",
    "dreem1_1 = pd.read_json(\"/Users/andrewshen/Desktop/dreem-learning-evaluation-master/scorers/dodo/scorer_1/\" + file_name + \".json\")\n",
    "# dreem1_1.drop(dreem1_1.tail(1).index,inplace=True)\n",
    "dreem1_1.columns = [\"score\"]\n",
    "\n",
    "\n",
    "# dreem1_2 = pd.read_csv(\"/Users/andrewshen/Desktop/dreem1_2.txt\", usecols = [i for i in range(1)])\n",
    "# dreem1_2.drop(dreem1_2.tail(1).index,inplace=True)\n",
    "# dreem1_2.columns = [\"score\"]\n",
    "dreem1_2 = pd.read_json(\"/Users/andrewshen/Desktop/dreem-learning-evaluation-master/scorers/dodo/scorer_2/\" + file_name + \".json\")\n",
    "# dreem1_2.drop(dreem1_2.tail(1).index,inplace=True)\n",
    "dreem1_2.columns = [\"score\"]\n",
    "\n",
    "# dreem1_3 = pd.read_csv(\"/Users/andrewshen/Desktop/dreem1_3.txt\", usecols = [i for i in range(1)])\n",
    "# dreem1_3.drop(dreem1_3.tail(1).index,inplace=True)\n",
    "# dreem1_3.columns = [\"score\"]\n",
    "dreem1_3 = pd.read_json(\"/Users/andrewshen/Desktop/dreem-learning-evaluation-master/scorers/dodo/scorer_3/\" + file_name + \".json\")\n",
    "# dreem1_3.drop(dreem1_3.tail(1).index,inplace=True)\n",
    "dreem1_3.columns = [\"score\"]\n",
    "\n",
    "# dreem1_4 = pd.read_csv(\"/Users/andrewshen/Desktop/dreem1_4.txt\", usecols = [i for i in range(1)])\n",
    "# dreem1_4.drop(dreem1_4.tail(1).index,inplace=True)\n",
    "# dreem1_4.columns = [\"score\"]\n",
    "dreem1_4 = pd.read_json(\"/Users/andrewshen/Desktop/dreem-learning-evaluation-master/scorers/dodo/scorer_4/\" + file_name + \".json\")\n",
    "# dreem1_4.drop(dreem1_4.tail(1).index,inplace=True)\n",
    "dreem1_4.columns = [\"score\"]\n",
    "\n",
    "\n",
    "# dreem1_5 = pd.read_csv(\"/Users/andrewshen/Desktop/dreem1_5.txt\", usecols = [i for i in range(1)])\n",
    "# dreem1_5.drop(dreem1_5.tail(1).index,inplace=True)\n",
    "# dreem1_5.columns = [\"score\"]\n",
    "dreem1_5 = pd.read_json(\"/Users/andrewshen/Desktop/dreem-learning-evaluation-master/scorers/dodo/scorer_5/\" + file_name + \".json\")\n",
    "# dreem1_5.drop(dreem1_5.tail(1).index,inplace=True)\n",
    "dreem1_5.columns = [\"score\"]\n",
    "\n",
    "num_vals = dreem1_1.size"
   ]
  },
  {
   "cell_type": "code",
   "execution_count": 923,
   "id": "2a37e687-404d-4187-a734-56326db17b5b",
   "metadata": {},
   "outputs": [
    {
     "data": {
      "text/plain": [
       "951"
      ]
     },
     "execution_count": 923,
     "metadata": {},
     "output_type": "execute_result"
    }
   ],
   "source": [
    "# dreem1_1\n",
    "num_vals"
   ]
  },
  {
   "cell_type": "code",
   "execution_count": 924,
   "id": "f8c79d5e-28f2-4a90-aaef-b9b9b4e47c11",
   "metadata": {},
   "outputs": [],
   "source": [
    "# Create master dataframe\n",
    "dreem1_master = dreem1_1.copy()\n",
    "dreem1_master[\"score2\"] = dreem1_2[\"score\"]\n",
    "dreem1_master[\"score3\"] = dreem1_3[\"score\"]\n",
    "dreem1_master[\"score4\"] = dreem1_4[\"score\"]\n",
    "dreem1_master[\"score5\"] = dreem1_5[\"score\"]"
   ]
  },
  {
   "cell_type": "code",
   "execution_count": 925,
   "id": "283af643-6c8f-4ce7-a255-ce6850834579",
   "metadata": {},
   "outputs": [],
   "source": [
    "# dreem1_master"
   ]
  },
  {
   "cell_type": "code",
   "execution_count": 926,
   "id": "07e169ec-a3aa-4af0-984a-215e3c66fb2a",
   "metadata": {},
   "outputs": [],
   "source": [
    "# Background variables to calculate\n",
    "\n",
    "# i: rater id, from 1-5\n",
    "# j: rater id, from 1-5\n",
    "# k: example/sample id, from 0-1191\n",
    "# X(i,j,k): random variable equal to 1 if labeler i and j agree on example k, otherwise 0\n",
    "# AG: average agreement rate, average of X(i,j,k) for all i,j,k\n",
    "# Y(i,j,k1,k2): random variable equal to 1 if two labelers i and j agree on random exammples k1 and k2 (with k1 from i and k2 from j), otherwise 0\n",
    "# BACK: \n",
    "\n",
    "# Use statistic AG-BACK to determine easy vs hard examples"
   ]
  },
  {
   "cell_type": "code",
   "execution_count": 927,
   "id": "3fa58f53-fc05-48e5-9db0-841d00db2c2f",
   "metadata": {},
   "outputs": [],
   "source": [
    "# Calculate X\n",
    "\n",
    "# Function to facilitate calculation of X for all possible combinations of i,j,k\n",
    "# Dictionary to easily access dreem datasets based on an id number\n",
    "raterID_dict = {1:dreem1_1, 2:dreem1_2, 3:dreem1_3, 4:dreem1_4, 5:dreem1_5}\n",
    "def get_x(i,j,k):\n",
    "    \"\"\"\n",
    "    GOAL: Return whether two labelers agree on an example k\n",
    "    Input: i (rater id), j (rater id), k (sample number)\n",
    "    Output: 1 (if agree), 0 (if don't agree)\n",
    "    \"\"\"\n",
    "    i_df = raterID_dict[i]\n",
    "    j_df = raterID_dict[j]\n",
    "    i_val = i_df.loc[k][\"score\"]\n",
    "    j_val = j_df.loc[k][\"score\"]\n",
    "    #print(i_val)\n",
    "    #print(j_val)\n",
    "    if(i_val == j_val):\n",
    "        return 1\n",
    "    return 0"
   ]
  },
  {
   "cell_type": "code",
   "execution_count": 928,
   "id": "c7f60fec-0d73-413f-896f-fd5bf831a902",
   "metadata": {},
   "outputs": [],
   "source": [
    "# Calculate AG\n",
    "\n",
    "# Iterate over all combinations of i and j (not including when i equals j), for each get values of k\n",
    "total_agreement = 0\n",
    "total_combos = 0\n",
    "# Dictionary with key as rater pairings and value as AG between the two raters\n",
    "# Number of pairings is C(5,2)\n",
    "pairings = [[1,2], [1,3], [1,4], [1,5], [2,3], [2,4], [2,5], [3,4], [3,5], [4,5]]\n",
    "num_agreement_dict = {}\n",
    "# AG_dict = {}\n",
    "\n",
    "# Populate \"num_agreement_dict\" to find agreement value\n",
    "for k in range(0,num_vals):\n",
    "    curr_agreement_count = 0 \n",
    "    for pair in pairings:\n",
    "        i = pair[0]\n",
    "        j = pair[1]\n",
    "        curr_agreement_count += get_x(i,j,k)\n",
    "    num_agreement_dict[k] = curr_agreement_count\n",
    "\n",
    "# Old code that finds \"total_agreement\" and \"curr_agreement\"\n",
    "# for pair in pairings:\n",
    "#     i = pair[0]\n",
    "#     j = pair[1]\n",
    "#     if(i!=j):\n",
    "#         curr_id = str(i) + \",\" + str(j)\n",
    "#         curr_agreement = 0\n",
    "#         curr_combos = 0\n",
    "#         for k in range(0,1192):\n",
    "#             total_agreement += get_x(i,j,k)\n",
    "#             total_combos += 1\n",
    "#             curr_agreement += get_x(i,j,k)\n",
    "#             curr_combos += 1\n",
    "#             #print(\"K iteration for: \" + str(i) + \" \" + str(j) + \" \" + str(k))\n",
    "#         AG_dict[curr_id] = curr_agreement/curr_combos"
   ]
  },
  {
   "cell_type": "code",
   "execution_count": 929,
   "id": "ec4ad011-afec-47b8-a89f-072a880e975c",
   "metadata": {},
   "outputs": [],
   "source": [
    "# num_agreement_dict"
   ]
  },
  {
   "cell_type": "code",
   "execution_count": 930,
   "id": "8dc21da7-4503-49a0-8ca5-288408a68938",
   "metadata": {},
   "outputs": [],
   "source": [
    "# Add values of \"num_agreement_dict\" to \"dreem1_master\"\n",
    "dreem1_master[\"num_agreement\"] = num_agreement_dict.values()"
   ]
  },
  {
   "cell_type": "code",
   "execution_count": 931,
   "id": "b82f8b54-250e-4955-82ad-671c8ea06f80",
   "metadata": {},
   "outputs": [],
   "source": [
    "# dreem1_master"
   ]
  },
  {
   "cell_type": "code",
   "execution_count": 932,
   "id": "a9e4771a-5f8e-44bc-8980-06233c96f61a",
   "metadata": {},
   "outputs": [],
   "source": [
    "# Export final \"dreem1_master\" dataframe\n",
    "outfile_name = \"dreem_analysis_out/\" + file_name + \"_out.csv\"\n",
    "dreem1_master.to_csv(outfile_name, mode='a')"
   ]
  },
  {
   "cell_type": "code",
   "execution_count": 933,
   "id": "ca256699-900a-4572-a50a-7ca4263049e5",
   "metadata": {},
   "outputs": [],
   "source": [
    "# AG_total = total_agreement/total_combos # 0.5445469"
   ]
  },
  {
   "cell_type": "code",
   "execution_count": 934,
   "id": "7a18646a-f6f0-4c78-b5ad-e097f30c6098",
   "metadata": {},
   "outputs": [],
   "source": [
    "# AG_dict"
   ]
  },
  {
   "cell_type": "code",
   "execution_count": 935,
   "id": "6c8071f0-553d-4e94-a489-b0ccc0d03d2b",
   "metadata": {},
   "outputs": [],
   "source": [
    "# Calculate Y\n",
    "\n",
    "# Function to facilitate calculation of Y for all possible combinations of i,j,k1,k2\n",
    "#def get_y("
   ]
  }
 ],
 "metadata": {
  "kernelspec": {
   "display_name": "Python 3 (ipykernel)",
   "language": "python",
   "name": "python3"
  },
  "language_info": {
   "codemirror_mode": {
    "name": "ipython",
    "version": 3
   },
   "file_extension": ".py",
   "mimetype": "text/x-python",
   "name": "python",
   "nbconvert_exporter": "python",
   "pygments_lexer": "ipython3",
   "version": "3.9.5"
  }
 },
 "nbformat": 4,
 "nbformat_minor": 5
}
